{
 "cells": [
  {
   "cell_type": "code",
   "execution_count": null,
   "metadata": {},
   "outputs": [],
   "source": [
    "using MakieCore\n",
    "import MakieCore: convert_arguments \n",
    "\n",
    "# This part would be the extension package (calls like lines, series, etc.)\n",
    "using CairoMakie\n",
    "\n",
    "import NamedTrajectories as NT"
   ]
  },
  {
   "cell_type": "code",
   "execution_count": null,
   "metadata": {},
   "outputs": [],
   "source": [
    "traj = rand(NT.NamedTrajectory, 10);"
   ]
  },
  {
   "cell_type": "markdown",
   "metadata": {},
   "source": [
    "- We can also define convert_arguments for a series, but series is in Makie, not MakieCore"
   ]
  },
  {
   "cell_type": "code",
   "execution_count": null,
   "metadata": {},
   "outputs": [],
   "source": [
    "function convert_arguments(\n",
    "    P::Type{<:Makie.Series}, \n",
    "    traj::NT.NamedTrajectory,\n",
    "    name::Symbol;\n",
    "    transformation::Union{Function, Nothing}=nothing\n",
    ")\n",
    "    if !isnothing(transformation)\n",
    "        output_data = try\n",
    "            stack(transformation.(eachcol(traj[name])))\n",
    "        catch\n",
    "            throw(ArgumentError(\"Transformation of $(name) failed.\"))\n",
    "        end\n",
    "    else\n",
    "        output_data = traj[name]\n",
    "    end\n",
    "\n",
    "    return convert_arguments(P, NT.get_times(traj), output_data)\n",
    "end\n",
    "\n",
    "MakieCore.used_attributes(::Type{<:Makie.Series}, ::NT.NamedTrajectory, ::Symbol) = (:transformation,)\n",
    "MakieCore.plottype(::NT.NamedTrajectory, ::Symbol) = Makie.Series"
   ]
  },
  {
   "cell_type": "code",
   "execution_count": null,
   "metadata": {},
   "outputs": [],
   "source": [
    "# @recipe(PlotComponents, traj, components) do scene\n",
    "#     Attributes(\n",
    "#         color=:seaborn_colorblind6,\n",
    "#         linestyle=theme(scene, :linestyle),\n",
    "#         linewidth=theme(scene, :linewidth),\n",
    "#         marker=nothing,\n",
    "#         markersize=nothing,\n",
    "#     )\n",
    "# end"
   ]
  },
  {
   "cell_type": "code",
   "execution_count": null,
   "metadata": {},
   "outputs": [],
   "source": [
    "function my_plot()\n",
    "    f = Figure()\n",
    "    plot(\n",
    "        f[1,1], traj, :x, \n",
    "        transformation=x -> [abs.(x); x .^ 2],\n",
    "        color=:seaborn_colorblind6,\n",
    "        marker=:circle,\n",
    "        markersize=5,\n",
    "    )\n",
    "    return f\n",
    "end"
   ]
  },
  {
   "cell_type": "code",
   "execution_count": null,
   "metadata": {},
   "outputs": [],
   "source": [
    "my_plot()"
   ]
  },
  {
   "cell_type": "code",
   "execution_count": null,
   "metadata": {},
   "outputs": [],
   "source": [
    "with_theme(my_plot, theme_minimal())"
   ]
  },
  {
   "cell_type": "code",
   "execution_count": null,
   "metadata": {},
   "outputs": [],
   "source": [
    "f = Figure()\n",
    "ax = Axis(f[1, 1])\n",
    "plot!(ax, traj, :x, linewidth=3)\n",
    "Legend(f[1, 2], ax)\n",
    "plot(f[2, 1], traj, :u)\n",
    "f"
   ]
  },
  {
   "cell_type": "code",
   "execution_count": null,
   "metadata": {},
   "outputs": [],
   "source": []
  }
 ],
 "metadata": {
  "kernelspec": {
   "display_name": "Julia 1.11.3",
   "language": "julia",
   "name": "julia-1.11"
  },
  "language_info": {
   "file_extension": ".jl",
   "mimetype": "application/julia",
   "name": "julia",
   "version": "1.11.3"
  }
 },
 "nbformat": 4,
 "nbformat_minor": 2
}
