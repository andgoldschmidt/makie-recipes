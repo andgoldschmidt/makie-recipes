{
 "cells": [
  {
   "cell_type": "code",
   "execution_count": null,
   "metadata": {},
   "outputs": [],
   "source": [
    "using MakieCore\n",
    "import MakieCore: convert_arguments \n",
    "\n",
    "# This part would be the extension package (calls like lines, scatter, etc.)\n",
    "using CairoMakie\n",
    "\n",
    "import NamedTrajectories as NT"
   ]
  },
  {
   "cell_type": "code",
   "execution_count": null,
   "metadata": {},
   "outputs": [],
   "source": [
    "traj = rand(NT.NamedTrajectory, 10);"
   ]
  },
  {
   "cell_type": "markdown",
   "metadata": {},
   "source": [
    "- We can also define convert_arguments for a series, but series is in Makie, not MakieCore\n",
    "- Not as easy to set Theme defaults this way"
   ]
  },
  {
   "cell_type": "code",
   "execution_count": null,
   "metadata": {},
   "outputs": [],
   "source": [
    "function convert_arguments(\n",
    "    P::Makie.Series, \n",
    "    traj::NT.NamedTrajectory{<:Any},\n",
    "    name::Symbol,\n",
    ")\n",
    "    return convert_arguments(P, NT.get_times(traj), traj[name])\n",
    "end\n",
    "\n",
    "MakieCore.plottype(::NT.NamedTrajectory, ::Symbol) = Makie.Series"
   ]
  },
  {
   "cell_type": "code",
   "execution_count": null,
   "metadata": {},
   "outputs": [],
   "source": [
    "f = Figure()\n",
    "ax = Axis(f[1, 1])\n",
    "plot!(ax, traj, :x, linewidth=3)\n",
    "Legend(f[1, 2], ax)\n",
    "plot(f[2, 1], traj, :u)\n",
    "f"
   ]
  },
  {
   "cell_type": "code",
   "execution_count": null,
   "metadata": {},
   "outputs": [],
   "source": []
  }
 ],
 "metadata": {
  "kernelspec": {
   "display_name": "Julia 1.11.3",
   "language": "julia",
   "name": "julia-1.11"
  },
  "language_info": {
   "file_extension": ".jl",
   "mimetype": "application/julia",
   "name": "julia",
   "version": "1.11.3"
  }
 },
 "nbformat": 4,
 "nbformat_minor": 2
}
