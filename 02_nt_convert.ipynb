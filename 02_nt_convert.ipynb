{
 "cells": [
  {
   "cell_type": "code",
   "execution_count": null,
   "metadata": {},
   "outputs": [],
   "source": [
    "using MakieCore\n",
    "import MakieCore: convert_arguments \n",
    "\n",
    "# This part would be the extension package (calls like lines, scatter, etc.)\n",
    "using CairoMakie\n",
    "\n",
    "import NamedTrajectories as NT"
   ]
  },
  {
   "cell_type": "markdown",
   "metadata": {},
   "source": [
    "- convert_arguments is not good because it cannot plot multiple lines"
   ]
  },
  {
   "cell_type": "code",
   "execution_count": null,
   "metadata": {},
   "outputs": [],
   "source": [
    "function convert_arguments(\n",
    "    P::MakieCore.PointBased, \n",
    "    traj::NT.NamedTrajectory{<:Any},\n",
    "    component::Int,\n",
    ")\n",
    "    times = NT.get_times(traj)\n",
    "    positions = [(times[j], traj.data[component, j]) for j in eachindex(times)]\n",
    "    return convert_arguments(P, positions)\n",
    "end\n",
    "\n",
    "# define the default plot type (preserve `plot` calls)\n",
    "MakieCore.plottype(::NT.NamedTrajectory, ::Int) = Lines\n",
    "\n",
    "\n",
    "# NOTE: The rest of these conversions should be recipes!\n",
    "# -----\n",
    "\n",
    "# function convert_arguments(\n",
    "#     P::MakieCore.PointBased, \n",
    "#     traj::NT.NamedTrajectory{<:Any},\n",
    "#     name::Symbol,\n",
    "#     index::Int\n",
    "# )\n",
    "#     times = NT.get_times(traj)\n",
    "#     positions = [(times[j], traj[name][index, j]) for j in eachindex(times)]\n",
    "#     return convert_arguments(P, positions)\n",
    "# end\n",
    "\n",
    "# function convert_arguments(\n",
    "#     P::MakieCore.PointBased, \n",
    "#     traj::NT.NamedTrajectory{<:Any},\n",
    "#     name::Symbol\n",
    "# )\n",
    "#     times = NT.get_times(traj)\n",
    "#     rows, cols = size(traj[name])\n",
    "#     positions = vec([Point2(times[j], traj[name][i, j]) for i in 1:rows, j in 1:cols])\n",
    "#     return convert_arguments(P, positions)\n",
    "#     # return vec(positions)\n",
    "# end\n"
   ]
  },
  {
   "cell_type": "code",
   "execution_count": null,
   "metadata": {},
   "outputs": [],
   "source": [
    "function convert_arguments(\n",
    "    P::MakieCore.PointBased, \n",
    "    traj::NT.NamedTrajectory{<:Any},\n",
    "    comps::AbstractVector{Int},\n",
    "    transformation::Function\n",
    ")\n",
    "    times = NT.get_times(traj)\n",
    "    positions = [(times[j], transformation(traj.data[comps, j])) for j in eachindex(times)]\n",
    "    return convert_arguments(P, positions)\n",
    "end"
   ]
  },
  {
   "cell_type": "code",
   "execution_count": null,
   "metadata": {},
   "outputs": [],
   "source": [
    "traj = rand(NT.NamedTrajectory, 10);"
   ]
  },
  {
   "cell_type": "code",
   "execution_count": null,
   "metadata": {},
   "outputs": [],
   "source": [
    "f = Figure()\n",
    "ax = Axis(f[1, 1])\n",
    "[lines!(ax, traj, i) for i in traj.components[:u]]\n",
    "f"
   ]
  },
  {
   "cell_type": "markdown",
   "metadata": {},
   "source": [
    "Notes\n",
    "- Makie defaults to Makie.Axis as the preferred axis."
   ]
  },
  {
   "cell_type": "code",
   "execution_count": null,
   "metadata": {},
   "outputs": [],
   "source": [
    "@recipe(PlotComponents, traj, components) do scene\n",
    "    Theme(\n",
    "        Lines = (\n",
    "            linewidth = 10,\n",
    "            linestyle = :dash,\n",
    "        ),\n",
    "        Axis = (\n",
    "            leftspinevisible = false,\n",
    "        ),\n",
    "    )\n",
    "    # Attributes(\n",
    "    #     labels = false,\n",
    "    # )\n",
    "end\n",
    "\n",
    "# Default is to plot on axis\n",
    "Makie.preferred_axis_type(P::PlotComponents) = Makie.Axis\n",
    "\n",
    "# Dealing with a default plot of an existing component\n",
    "function Makie.plot!(P::PlotComponents{<:Tuple{<:NT.NamedTrajectory, Symbol}})\n",
    "    lift(P[:traj], P[:components]) do traj, name\n",
    "        for i in traj.components[name]\n",
    "            lines!(P, traj, i, label=\"$(name)$(i)\")\n",
    "        end\n",
    "    end\n",
    "    return P\n",
    "end\n",
    "\n",
    "# Ability to add a legend\n",
    "Makie.get_plots(P::PlotComponents) = P.plots\n",
    "\n",
    "# Dealing with a transformation to a new component\n",
    "function Makie.plot!(\n",
    "    P::PlotComponents{<:Tuple{<:NT.NamedTrajectory, <:Tuple{Symbol, Symbol, <:Function}}}\n",
    ")\n",
    "    lift(P[:traj], P[:components]) do traj, transformation_data\n",
    "        input_name, output_name, transformation = transformation_data\n",
    "        times = NT.get_times(traj)\n",
    "\n",
    "        # Descriptive error message\n",
    "        output_data = try\n",
    "            stack(transformation.(eachcol(traj[input_name])))\n",
    "        catch\n",
    "            throw(ArgumentError(\"Transformation $(input_name) -> $(output_name) failed.\"))\n",
    "        end\n",
    "\n",
    "        for (j, output_row) in enumerate(eachrow(output_data))\n",
    "            lines!(P, times, output_row, label=\"$(output_name)$(j)\")\n",
    "        end\n",
    "    end\n",
    "    return P\n",
    "end\n",
    "\n",
    "# How to deal with multiple symbols?"
   ]
  },
  {
   "cell_type": "code",
   "execution_count": null,
   "metadata": {},
   "outputs": [],
   "source": [
    "f = Figure()\n",
    "ax = Axis(f[1, 1])\n",
    "\n",
    "plotcomponents!(ax, traj, (:x, :y, x -> abs.(x)))\n",
    "Legend(f[1, 2], ax)\n",
    "\n",
    "plotcomponents(f[2, 1], traj, :u)\n",
    "f"
   ]
  },
  {
   "cell_type": "code",
   "execution_count": null,
   "metadata": {},
   "outputs": [],
   "source": []
  }
 ],
 "metadata": {
  "kernelspec": {
   "display_name": "Julia 1.10.4",
   "language": "julia",
   "name": "julia-1.10"
  },
  "language_info": {
   "file_extension": ".jl",
   "mimetype": "application/julia",
   "name": "julia",
   "version": "1.10.4"
  }
 },
 "nbformat": 4,
 "nbformat_minor": 2
}
