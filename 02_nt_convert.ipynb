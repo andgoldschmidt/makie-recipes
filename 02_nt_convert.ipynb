{
 "cells": [
  {
   "cell_type": "code",
   "execution_count": null,
   "metadata": {},
   "outputs": [],
   "source": [
    "using MakieCore\n",
    "import MakieCore: convert_arguments \n",
    "\n",
    "# This part would be the extension package (calls like lines, scatter, etc.)\n",
    "using CairoMakie\n",
    "\n",
    "import NamedTrajectories as NT"
   ]
  },
  {
   "cell_type": "markdown",
   "metadata": {},
   "source": [
    "- convert_arguments is not good because it cannot plot multiple lines"
   ]
  },
  {
   "cell_type": "code",
   "execution_count": null,
   "metadata": {},
   "outputs": [],
   "source": [
    "function convert_arguments(\n",
    "    P::MakieCore.PointBased, \n",
    "    traj::NT.NamedTrajectory{<:Any},\n",
    "    component::Int,\n",
    ")\n",
    "    times = NT.get_times(traj)\n",
    "    positions = [(times[j], traj.data[component, j]) for j in eachindex(times)]\n",
    "    return convert_arguments(P, positions)\n",
    "end\n",
    "\n",
    "# define the default plot type (preserve `plot` calls)\n",
    "MakieCore.plottype(::NT.NamedTrajectory, ::Int) = Lines\n",
    "\n",
    "\n",
    "# NOTE: The rest of these conversions should be recipes!\n",
    "# -----\n",
    "\n",
    "# function convert_arguments(\n",
    "#     P::MakieCore.PointBased, \n",
    "#     traj::NT.NamedTrajectory{<:Any},\n",
    "#     name::Symbol,\n",
    "#     index::Int\n",
    "# )\n",
    "#     times = NT.get_times(traj)\n",
    "#     positions = [(times[j], traj[name][index, j]) for j in eachindex(times)]\n",
    "#     return convert_arguments(P, positions)\n",
    "# end\n",
    "\n",
    "# function convert_arguments(\n",
    "#     P::MakieCore.PointBased, \n",
    "#     traj::NT.NamedTrajectory{<:Any},\n",
    "#     name::Symbol\n",
    "# )\n",
    "#     times = NT.get_times(traj)\n",
    "#     rows, cols = size(traj[name])\n",
    "#     positions = vec([Point2(times[j], traj[name][i, j]) for i in 1:rows, j in 1:cols])\n",
    "#     return convert_arguments(P, positions)\n",
    "#     # return vec(positions)\n",
    "# end\n"
   ]
  },
  {
   "cell_type": "code",
   "execution_count": null,
   "metadata": {},
   "outputs": [],
   "source": [
    "traj = rand(NT.NamedTrajectory, 10);"
   ]
  },
  {
   "cell_type": "code",
   "execution_count": null,
   "metadata": {},
   "outputs": [],
   "source": [
    "f = Figure()\n",
    "ax = Axis(f[1, 1])\n",
    "[lines!(ax, traj, i) for i in traj.components[:u]]\n",
    "f"
   ]
  },
  {
   "cell_type": "code",
   "execution_count": null,
   "metadata": {},
   "outputs": [],
   "source": []
  },
  {
   "cell_type": "markdown",
   "metadata": {},
   "source": [
    "Notes\n",
    "- Makie defaults to Makie.Axis as the preferred axis."
   ]
  },
  {
   "cell_type": "code",
   "execution_count": null,
   "metadata": {},
   "outputs": [],
   "source": [
    "@recipe(MyPlot, traj, name) do scene\n",
    "    Theme(\n",
    "        Lines = (\n",
    "            linewidth = 10,\n",
    "            linestyle = :dash,\n",
    "        ),\n",
    "        Axis = (\n",
    "            leftspinevisible = false,\n",
    "        ),\n",
    "    )\n",
    "    # Attributes(\n",
    "    #     labels = false,\n",
    "    # )\n",
    "end\n",
    "\n",
    "Makie.preferred_axis_type(P::MyPlot) = Makie.Axis\n",
    "\n",
    "function Makie.plot!(P::MyPlot{<:Tuple{<:NT.NamedTrajectory, Symbol}})\n",
    "    lift(P[:traj], P[:name]) do traj, name\n",
    "        for i in traj.components[name]\n",
    "            lines!(P, traj, i)\n",
    "        end\n",
    "    end\n",
    "    return P\n",
    "end\n",
    "\n",
    "# How to deal with multiple symbols?"
   ]
  },
  {
   "cell_type": "code",
   "execution_count": null,
   "metadata": {},
   "outputs": [],
   "source": [
    "f = Figure()\n",
    "ax = Axis(f[1, 1])\n",
    "myplot!(ax, traj, :x)\n",
    "\n",
    "myplot(f[1, 2], traj, :u)\n",
    "\n",
    "f"
   ]
  },
  {
   "cell_type": "code",
   "execution_count": null,
   "metadata": {},
   "outputs": [],
   "source": []
  }
 ],
 "metadata": {
  "kernelspec": {
   "display_name": "Julia 1.10.4",
   "language": "julia",
   "name": "julia-1.10"
  },
  "language_info": {
   "file_extension": ".jl",
   "mimetype": "application/julia",
   "name": "julia",
   "version": "1.10.4"
  }
 },
 "nbformat": 4,
 "nbformat_minor": 2
}
