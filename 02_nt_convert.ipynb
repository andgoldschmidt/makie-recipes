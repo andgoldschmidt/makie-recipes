{
 "cells": [
  {
   "cell_type": "code",
   "execution_count": null,
   "metadata": {},
   "outputs": [],
   "source": [
    "using MakieCore\n",
    "import MakieCore: convert_arguments \n",
    "\n",
    "# This part would be the extension package (calls like lines, scatter, etc.)\n",
    "using CairoMakie\n",
    "\n",
    "import NamedTrajectories as NT"
   ]
  },
  {
   "cell_type": "markdown",
   "metadata": {},
   "source": [
    "- convert_arguments cannot plot multiple lines? seemingly not without Makie (see nb 03). Stick with PointBased (MakieCore) or Series (Makie)?\n",
    "\n",
    "Examples to follow\n",
    "- https://github.com/JuliaGaussianProcesses/AbstractGPsMakie.jl/blob/main/src/recipes/gpsample.jl\n",
    "- https://github.com/MakieOrg/Makie.jl/issues/837#issuecomment-846052033"
   ]
  },
  {
   "cell_type": "code",
   "execution_count": null,
   "metadata": {},
   "outputs": [],
   "source": [
    "function convert_arguments(\n",
    "    P::MakieCore.PointBased, \n",
    "    traj::NT.NamedTrajectory{<:Any},\n",
    "    component::Int,\n",
    ")\n",
    "    times = NT.get_times(traj)\n",
    "    positions = [(times[j], traj.data[component, j]) for j in eachindex(times)]\n",
    "    return convert_arguments(P, positions)\n",
    "end\n",
    "\n",
    "# define the default plot type (preserve `plot` calls)\n",
    "MakieCore.plottype(::NT.NamedTrajectory, ::Int) = MakieCore.Lines\n"
   ]
  },
  {
   "cell_type": "code",
   "execution_count": null,
   "metadata": {},
   "outputs": [],
   "source": [
    "traj = rand(NT.NamedTrajectory, 10);"
   ]
  },
  {
   "cell_type": "code",
   "execution_count": null,
   "metadata": {},
   "outputs": [],
   "source": [
    "f = Figure()\n",
    "ax = Axis(f[1, 1])\n",
    "[lines!(ax, traj, i, color=range(0, 1, length=traj.T), colormap=:Reds) for i in traj.components[:u]]\n",
    "f"
   ]
  },
  {
   "cell_type": "markdown",
   "metadata": {},
   "source": [
    "Notes\n",
    "- Unsure why theme is not being set by the recipe. Use attributes to set it manually.\n",
    "\n",
    "Little notes\n",
    "- Makie defaults to Makie.Axis as the preferred axis.\n",
    "- Can you set relational features of the figure (e.g. colgaps) in the recipe?\n",
    "- How to deal with multiple symbols? (See nb 03 for Series). Recipes are only allowed one axis. SpecApi is experimental."
   ]
  },
  {
   "cell_type": "code",
   "execution_count": null,
   "metadata": {},
   "outputs": [],
   "source": [
    "@recipe(PlotComponents, traj, components) do scene\n",
    "    Attributes(\n",
    "        color=theme(scene, :linecolor),\n",
    "        colormap=theme(scene, :colormap),\n",
    "        colorrange=Makie.automatic,\n",
    "        linestyle=theme(scene, :linestyle),\n",
    "        linewidth=theme(scene, :linewidth),\n",
    "        cycle=[:color],\n",
    "    )\n",
    "end\n",
    "\n",
    "# Default is to plot on axis\n",
    "Makie.preferred_axis_type(P::PlotComponents) = Makie.Axis\n",
    "\n",
    "# Adds the ability to recall plot labels for a legend\n",
    "Makie.get_plots(P::PlotComponents) = P.plots\n",
    "\n",
    "# Dealing with a default plot of an existing component\n",
    "function Makie.plot!(\n",
    "    P::PlotComponents{<:Tuple{<:NT.NamedTrajectory, Symbol}};\n",
    "    kwargs...\n",
    ")\n",
    "    lift(P[:traj], P[:components]) do traj, name\n",
    "        times = NT.get_times(traj)\n",
    "        for i in traj.components[name]\n",
    "            lines!(\n",
    "                P, times, traj.data[i, :], \n",
    "                label=\"$(name)$(i)\",\n",
    "                linewidth = P[:linewidth], \n",
    "                linestyle = P[:linestyle],\n",
    "                color = P[:color],\n",
    "                colorrange = P[:colorrange],\n",
    "                colormap = P[:colormap],\n",
    "                cycle = P[:cycle]\n",
    "            )\n",
    "        end\n",
    "    end\n",
    "    return P\n",
    "end\n",
    "\n",
    "# Dealing with a transformation to a new component\n",
    "function Makie.plot!(\n",
    "    P::PlotComponents{<:Tuple{<:NT.NamedTrajectory, <:Tuple{Symbol, Symbol, <:Function}}};\n",
    "    kwargs...\n",
    ")\n",
    "    lift(P[:traj], P[:components]) do traj, transformation_data\n",
    "        input_name, output_name, transformation = transformation_data\n",
    "        times = NT.get_times(traj)\n",
    "\n",
    "        # Descriptive error message\n",
    "        output_data = try\n",
    "            stack(transformation.(eachcol(traj[input_name])))\n",
    "        catch\n",
    "            throw(ArgumentError(\"Transformation $(input_name) -> $(output_name) failed.\"))\n",
    "        end\n",
    "\n",
    "        for (j, output_row) in enumerate(eachrow(output_data))\n",
    "            lines!(\n",
    "                P, times, output_row, \n",
    "                label=\"$(output_name)$(j)\",\n",
    "                linewidth = P[:linewidth], \n",
    "                linestyle = P[:linestyle],\n",
    "                colorrange = P[:colorrange],\n",
    "                colormap = P[:colormap],\n",
    "                cycle = P[:cycle]\n",
    "            )\n",
    "        end\n",
    "    end\n",
    "    return P\n",
    "end"
   ]
  },
  {
   "cell_type": "markdown",
   "metadata": {},
   "source": [
    "- I'm not convinced that with_theme behaves correctly (doens't seem to reset if called in a block, but works if a function is passed)"
   ]
  },
  {
   "cell_type": "code",
   "execution_count": null,
   "metadata": {},
   "outputs": [],
   "source": [
    "function test_plot()\n",
    "    f = Figure()\n",
    "\n",
    "    ax = Axis(f[1, 1])\n",
    "    plotcomponents!(ax, traj, (:x, :y, x -> x .^ 2))\n",
    "    Legend(f[1, 2], ax)\n",
    "\n",
    "    ax = Axis(f[2, 1])\n",
    "    plotcomponents!(ax, traj, :x)\n",
    "    Legend(f[2, 2], ax)\n",
    "\n",
    "    plotcomponents(f[3, 1], traj, :u,\n",
    "        linewidth=5, linestyle=:dash,\n",
    "        colormap=:Blues, colorrange=(0, 1),\n",
    "        color=:red\n",
    "    )\n",
    "    return f\n",
    "end"
   ]
  },
  {
   "cell_type": "code",
   "execution_count": null,
   "metadata": {},
   "outputs": [],
   "source": [
    "test_plot()"
   ]
  },
  {
   "cell_type": "code",
   "execution_count": null,
   "metadata": {},
   "outputs": [],
   "source": [
    "with_theme(test_plot, theme_minimal()) "
   ]
  },
  {
   "cell_type": "code",
   "execution_count": null,
   "metadata": {},
   "outputs": [],
   "source": [
    "with_theme(test_plot, test_theme) "
   ]
  },
  {
   "cell_type": "code",
   "execution_count": null,
   "metadata": {},
   "outputs": [],
   "source": []
  }
 ],
 "metadata": {
  "kernelspec": {
   "display_name": "Julia 1.11.3",
   "language": "julia",
   "name": "julia-1.11"
  },
  "language_info": {
   "file_extension": ".jl",
   "mimetype": "application/julia",
   "name": "julia",
   "version": "1.11.3"
  }
 },
 "nbformat": 4,
 "nbformat_minor": 2
}
