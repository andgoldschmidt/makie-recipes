{
 "cells": [
  {
   "cell_type": "code",
   "execution_count": null,
   "metadata": {},
   "outputs": [],
   "source": [
    "using MakieCore\n",
    "import MakieCore: convert_arguments \n",
    "\n",
    "# This part would be the extension package (calls like lines, scatter, etc.)\n",
    "using CairoMakie\n",
    "\n",
    "import NamedTrajectories as NT"
   ]
  },
  {
   "cell_type": "code",
   "execution_count": null,
   "metadata": {},
   "outputs": [],
   "source": [
    "traj = rand(NT.NamedTrajectory, 10);"
   ]
  },
  {
   "cell_type": "code",
   "execution_count": null,
   "metadata": {},
   "outputs": [],
   "source": [
    "function convert_arguments(\n",
    "    P::Type{<:Makie.Series}, \n",
    "    traj::NT.NamedTrajectory,\n",
    "    name::Symbol;\n",
    "    output::Union{Function, Nothing}=nothing\n",
    ")\n",
    "    if !isnothing(output)\n",
    "        output_data = try\n",
    "            stack(output.(eachcol(traj[name])))\n",
    "        catch\n",
    "            throw(ArgumentError(\"Output transformation of $(name) failed.\"))\n",
    "        end\n",
    "    else\n",
    "        output_data = traj[name]\n",
    "    end\n",
    "\n",
    "    return convert_arguments(P, NT.get_times(traj), output_data)\n",
    "end\n",
    "\n",
    "MakieCore.used_attributes(::Type{<:Makie.Series}, ::NT.NamedTrajectory, ::Symbol) = (:output,)\n",
    "MakieCore.plottype(::NT.NamedTrajectory, ::Symbol) = Makie.Series"
   ]
  },
  {
   "cell_type": "code",
   "execution_count": null,
   "metadata": {},
   "outputs": [],
   "source": [
    "f = Figure()\n",
    "ax = Axis(f[1,1])\n",
    "\n",
    "labels = [\"x$i\" for i in 1:size(traj.x, 1)]\n",
    "\n",
    "p = plot!(\n",
    "    ax, traj, :x, \n",
    "    output=x -> x .^ 2, \n",
    "    labels=labels, color=:seaborn_colorblind, marker=:circle\n",
    ")\n",
    "Legend(f[1,2], ax)\n",
    "f"
   ]
  },
  {
   "cell_type": "code",
   "execution_count": null,
   "metadata": {},
   "outputs": [],
   "source": [
    "typeof(p)"
   ]
  },
  {
   "cell_type": "code",
   "execution_count": null,
   "metadata": {},
   "outputs": [],
   "source": [
    "p.plots"
   ]
  },
  {
   "cell_type": "code",
   "execution_count": null,
   "metadata": {},
   "outputs": [],
   "source": [
    "Makie.get_labeled_plots(ax, merge=false, unique=false)"
   ]
  },
  {
   "cell_type": "markdown",
   "metadata": {},
   "source": [
    "I don't like recipes defined over the series because legends are awkward. I can't get the legend to be colored correctly."
   ]
  },
  {
   "cell_type": "code",
   "execution_count": null,
   "metadata": {},
   "outputs": [],
   "source": [
    "@recipe(NamePlot, traj, input_name, output_name, transformation) do scene\n",
    "    Attributes(\n",
    "        color=:seaborn_colorblind,\n",
    "        linestyle=theme(scene, :linestyle),\n",
    "        linewidth=theme(scene, :linewidth),\n",
    "        marker=nothing,\n",
    "        markersize=nothing,\n",
    "    )\n",
    "end\n",
    "\n",
    "# Adds the ability to recall plot labels for a legend\n",
    "Makie.get_plots(P::NamePlot) = Makie.get_plots(P.plots[1])\n",
    "\n",
    "# plot existing component\n",
    "function Makie.plot!(\n",
    "    P::NamePlot{<:Tuple{<:NT.NamedTrajectory, Symbol}};\n",
    "    kwargs...\n",
    ")\n",
    "    lift(P[:traj], P[:input_name]) do traj, name\n",
    "        P = plot!(\n",
    "            P, traj, name;\n",
    "            labels=[\"$(name)$(i)\" for i in eachindex(traj.components[name])],\n",
    "            color = P[:color],\n",
    "            linestyle = P[:linestyle],\n",
    "            linewidth = P[:linewidth],\n",
    "            marker = P[:marker],\n",
    "            markersize = P[:markersize],\n",
    "        )\n",
    "        \n",
    "    end\n",
    "    return P\n",
    "end"
   ]
  },
  {
   "cell_type": "code",
   "execution_count": null,
   "metadata": {},
   "outputs": [],
   "source": [
    "f = Figure()\n",
    "ax = Axis(f[1,1])\n",
    "name = :x\n",
    "p = nameplot!(ax, traj, name, linewidth=5)\n",
    "Legend(f[1,2], ax)\n",
    "f"
   ]
  },
  {
   "cell_type": "code",
   "execution_count": null,
   "metadata": {},
   "outputs": [],
   "source": [
    "typeof(p)"
   ]
  },
  {
   "cell_type": "code",
   "execution_count": null,
   "metadata": {},
   "outputs": [],
   "source": [
    "Makie.get_plots.(p.plots)"
   ]
  },
  {
   "cell_type": "code",
   "execution_count": null,
   "metadata": {},
   "outputs": [],
   "source": [
    "Makie.get_plots(p)"
   ]
  },
  {
   "cell_type": "code",
   "execution_count": null,
   "metadata": {},
   "outputs": [],
   "source": []
  }
 ],
 "metadata": {
  "kernelspec": {
   "display_name": "Julia 1.11.3",
   "language": "julia",
   "name": "julia-1.11"
  },
  "language_info": {
   "file_extension": ".jl",
   "mimetype": "application/julia",
   "name": "julia",
   "version": "1.11.3"
  }
 },
 "nbformat": 4,
 "nbformat_minor": 2
}
