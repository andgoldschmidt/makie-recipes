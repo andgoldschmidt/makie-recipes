{
 "cells": [
  {
   "cell_type": "code",
   "execution_count": null,
   "metadata": {},
   "outputs": [],
   "source": [
    "using CairoMakie\n",
    "using NamedTrajectories"
   ]
  },
  {
   "cell_type": "code",
   "execution_count": null,
   "metadata": {},
   "outputs": [],
   "source": [
    "traj = rand(NamedTrajectory, 10);"
   ]
  },
  {
   "cell_type": "code",
   "execution_count": null,
   "metadata": {},
   "outputs": [],
   "source": [
    "# basic plot and legend (with transform)\n",
    "f = Figure()\n",
    "\n",
    "plot(f[1,1], traj, :x)\n",
    "\n",
    "ax = Axis(f[2, 1])\n",
    "labels = [\"T(x) $i\" for i in 1:size(traj.x, 1)]\n",
    "p = plot!(\n",
    "    ax, traj, :x, \n",
    "    transform=x -> x .^ 2, \n",
    "    labels=labels, color=:seaborn_colorblind, marker=:circle,\n",
    ")\n",
    "Legend(f[2,2], ax)\n",
    "f"
   ]
  },
  {
   "cell_type": "code",
   "execution_count": null,
   "metadata": {},
   "outputs": [],
   "source": [
    "# automate some of the previous work with a recipe\n",
    "f = Figure()\n",
    "ax = Axis(f[1,1])\n",
    "p = namedplot!(ax, traj, :x)\n",
    "Legend(f[1,2], ax)\n",
    "f"
   ]
  },
  {
   "cell_type": "code",
   "execution_count": null,
   "metadata": {},
   "outputs": [],
   "source": [
    "# Ability to apply transformations and merge names\n",
    "f = Figure()\n",
    "ax = Axis(f[1,1])\n",
    "p = namedplot!(ax, traj, :x, \"y\", x -> x .^ 2, linewidth=3, marker=:circle, merge=true)\n",
    "Legend(f[1,2], ax, merge=true)\n",
    "\n",
    "ax = Axis(f[2,1])\n",
    "p = namedplot!(ax, traj, :x, nothing, x -> x .^ 2, linewidth=3, marker=:circle)\n",
    "Legend(f[2,2], ax)\n",
    "f"
   ]
  },
  {
   "cell_type": "code",
   "execution_count": null,
   "metadata": {},
   "outputs": [],
   "source": [
    "# create a figure with a trajectory plot\n",
    "trajectoryplot(\n",
    "    traj, \n",
    "    merge_labels=[true, false],\n",
    "    transformations=(x = x -> [x[1] * 30],), \n",
    "    merge_transformation_labels=true,\n",
    ")"
   ]
  },
  {
   "cell_type": "code",
   "execution_count": null,
   "metadata": {},
   "outputs": [],
   "source": [
    "# test multiple transformations TODO: should we have a better way to handle empty Symbols[]?\n",
    "trajectoryplot(\n",
    "    traj, Symbol[],\n",
    "    merge_labels=[true, false],\n",
    "    transformations=(x = x -> [x[1] * 30], u = u -> u .^2), \n",
    "    merge_transformation_labels=true,\n",
    ")"
   ]
  },
  {
   "cell_type": "code",
   "execution_count": null,
   "metadata": {},
   "outputs": [],
   "source": [
    "# typeof((x = x -> [x[1] * 30], u = u -> u .^2)) <: NamedTuple{<:Any, <:Tuple{Vararg{<:Function}}}\n",
    "# typeof((x = x -> [x[1] * 30],)) <: NamedTuple{<:Any, <:Tuple{Vararg{<:Function}}}"
   ]
  },
  {
   "cell_type": "code",
   "execution_count": null,
   "metadata": {},
   "outputs": [],
   "source": [
    "# test passing in series kwargs\n",
    "trajectoryplot(\n",
    "    traj, \n",
    "    [:x, :u],\n",
    "    merge_labels=[true, false],\n",
    "    transformations=(x = x -> [x[1] ^6],), \n",
    "    merge_transformation_labels=true,\n",
    "    linewidth=5,\n",
    "    color=:glasbey_bw_minc_20_n256,\n",
    ")"
   ]
  },
  {
   "cell_type": "code",
   "execution_count": null,
   "metadata": {},
   "outputs": [],
   "source": [
    "# test setting a theme\n",
    "trajectoryplot(theme_latexfonts(), traj, merge_labels=true)"
   ]
  },
  {
   "cell_type": "code",
   "execution_count": null,
   "metadata": {},
   "outputs": [],
   "source": []
  }
 ],
 "metadata": {
  "kernelspec": {
   "display_name": "Julia 1.11.3",
   "language": "julia",
   "name": "julia-1.11"
  },
  "language_info": {
   "file_extension": ".jl",
   "mimetype": "application/julia",
   "name": "julia",
   "version": "1.11.3"
  }
 },
 "nbformat": 4,
 "nbformat_minor": 2
}
