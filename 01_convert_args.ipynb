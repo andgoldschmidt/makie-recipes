{
 "cells": [
  {
   "cell_type": "markdown",
   "metadata": {},
   "source": [
    "[deps]\n",
    "- CairoMakie\n",
    "- Makie\n",
    "- MakieCore"
   ]
  },
  {
   "cell_type": "code",
   "execution_count": null,
   "metadata": {},
   "outputs": [],
   "source": [
    "using MakieCore\n",
    "import MakieCore: convert_arguments \n",
    "\n",
    "# This part would be the extension package (calls like lines, scatter, etc.)\n",
    "using CairoMakie"
   ]
  },
  {
   "cell_type": "markdown",
   "metadata": {},
   "source": [
    "First, a mini vesion of a NamedTrajectory"
   ]
  },
  {
   "cell_type": "code",
   "execution_count": null,
   "metadata": {},
   "outputs": [],
   "source": [
    "struct NamedVariable{R}\n",
    "    data::AbstractVector{R}\n",
    "    components::NamedTuple{\n",
    "        cnames, <:Tuple{Vararg{AbstractVector{Int}}}\n",
    "    } where cnames\n",
    "    names::Tuple{Vararg{Symbol}}\n",
    "end\n",
    "\n",
    "function NamedVariable(nt::NamedTuple{S, <:Tuple{Vararg{AbstractVector{R}}}}) where {S, R}\n",
    "    data = vcat(nt...)\n",
    "    names = keys(nt)\n",
    "    total = 1\n",
    "    indices = []\n",
    "    for i in map(length, nt)\n",
    "        push!(indices, total:total+i-1)\n",
    "        total += i\n",
    "    end\n",
    "    return NamedVariable(data, NamedTuple{names}(indices), names)\n",
    "end\n",
    "\n",
    "function Base.getproperty(nv::NamedVariable, name::Symbol)\n",
    "    if name in getfield(nv, :names)\n",
    "        idx = getfield(nv, :components)[name]\n",
    "        return nv.data[idx]\n",
    "    else\n",
    "        return getfield(nv, name)\n",
    "    end\n",
    "end\n",
    "\n",
    "function Base.getindex(nv::NamedVariable, name::Symbol)\n",
    "    return getproperty(nv, name)\n",
    "end"
   ]
  },
  {
   "cell_type": "markdown",
   "metadata": {},
   "source": [
    "convert_arguments:\n",
    "- a recursive call is needed after you get a list of points\n",
    "- a plot spec is one way to make a grid, but it's a bit premature\n",
    "\n",
    "after convert arguments exists, recipes are the way"
   ]
  },
  {
   "cell_type": "code",
   "execution_count": null,
   "metadata": {},
   "outputs": [],
   "source": [
    "function convert_arguments(\n",
    "    P::MakieCore.PointBased, \n",
    "    var::NamedVariable{<:Any},\n",
    "    name::Symbol\n",
    ")\n",
    "    positions = [(t, b) for (t, b) in zip(1:length(var[name]), var[name])]\n",
    "    return convert_arguments(P, positions)\n",
    "end\n",
    "\n",
    "# define the default plot type (preserve `plot` calls)\n",
    "MakieCore.plottype(::NamedVariable, ::Symbol) = Lines"
   ]
  },
  {
   "cell_type": "code",
   "execution_count": null,
   "metadata": {},
   "outputs": [],
   "source": [
    "import Makie.SpecApi as S\n",
    "\n",
    "function convert_arguments(\n",
    "    P::Type{Plot{MakieCore.plot}},\n",
    "    v::NamedVariable{<:Any},\n",
    "    labels::AbstractVector{Symbol}\n",
    "    # label_kwargs::Dict{Symbol, Any} = Dict()\n",
    ")\n",
    "    axes = [\n",
    "        S.Axis(plots=[S.Lines(1:length(v[l]), v[l])]) for l in labels, _ in 1:1\n",
    "    ]\n",
    "    return S.GridLayout(\n",
    "        axes,    )\n",
    "    # return PlotSpec[S.Lines(1:length(v[l]), v[l]) for l in labels]\n",
    "end"
   ]
  },
  {
   "cell_type": "markdown",
   "metadata": {},
   "source": [
    "Here are all the keyword arguments that S.GridLayout accepts (_unclear what the allowed\n",
    "types are_)\n",
    "\n",
    "```julia\n",
    "S.GridLayout([...],\n",
    "    colsizes = [Auto(), Auto(), 300],\n",
    "    rowsizes = [Relative(0.4), Relative(0.6)],\n",
    "    colgaps,\n",
    "    rowgaps,\n",
    "    alignmode,\n",
    "    halign,\n",
    "    valign,\n",
    "    tellheight,\n",
    "    tellwidth,\n",
    ")\n",
    "```"
   ]
  },
  {
   "cell_type": "markdown",
   "metadata": {},
   "source": [
    "Test the features"
   ]
  },
  {
   "cell_type": "code",
   "execution_count": null,
   "metadata": {},
   "outputs": [],
   "source": [
    "v = NamedVariable((a=[1, 2, 3], b=[4, 4, 4]))"
   ]
  },
  {
   "cell_type": "code",
   "execution_count": null,
   "metadata": {},
   "outputs": [],
   "source": [
    "convert_arguments(Lines, v, :a)"
   ]
  },
  {
   "cell_type": "markdown",
   "metadata": {},
   "source": [
    "Plot using convert args"
   ]
  },
  {
   "cell_type": "code",
   "execution_count": null,
   "metadata": {},
   "outputs": [],
   "source": [
    "f = Figure()\n",
    "ax = Axis(f[1, 1])\n",
    "plot!(ax, v, :a)\n",
    "lines!(ax, v, :b)\n",
    "f"
   ]
  },
  {
   "cell_type": "code",
   "execution_count": null,
   "metadata": {},
   "outputs": [],
   "source": [
    "lines(v, :a, linestyle=:dash, linewidth=10)"
   ]
  },
  {
   "cell_type": "markdown",
   "metadata": {},
   "source": [
    "Plot using the spec (experimental)"
   ]
  },
  {
   "cell_type": "code",
   "execution_count": null,
   "metadata": {},
   "outputs": [],
   "source": [
    "f = Figure()\n",
    "\n",
    "# works\n",
    "plot(f[1,2], v, [:a, :b])\n",
    "\n",
    "# won't work\n",
    "# ax = Axis(f[1, 1])\n",
    "# plot(ax, v, [:a, :b])\n",
    "\n",
    "f"
   ]
  },
  {
   "cell_type": "code",
   "execution_count": null,
   "metadata": {},
   "outputs": [],
   "source": [
    "f = Figure()\n",
    "ax = Axis(f[1:2, 1])\n",
    "plot!(ax, v, [:a, :b])\n",
    "f"
   ]
  },
  {
   "cell_type": "markdown",
   "metadata": {},
   "source": [
    "TODO: Section for recipes\n",
    "\n",
    "\n",
    "- What features do we need? \n",
    "- Transformations, labels, \n",
    "\n",
    "- Every Block such as Axis, Legend, Colorbar, etc. can be themed by using its type name as a key in your theme."
   ]
  },
  {
   "cell_type": "code",
   "execution_count": null,
   "metadata": {},
   "outputs": [],
   "source": [
    "# dark_latexfonts = merge(theme_dark(), theme_latexfonts())\n",
    "# lines_theme = Theme(\n",
    "#     Lines = (\n",
    "#         linewidth = 4,\n",
    "#         linestyle = :dash,\n",
    "#     ),\n",
    "#     Axis = (\n",
    "#         leftspinevisible = false,\n",
    "#     ),\n",
    "# )\n",
    "\n",
    "# set_theme!(dark_latexfonts)\n",
    "# with_theme(dark_latexfonts, fontsize = 25) do\n",
    "#     example_plot()\n",
    "# end\n",
    "\n",
    "# You can use the keys rowgap and colgap to change the default grid layout gaps.\n",
    "\n",
    "# The theme given in the body of the @recipe invocation is inserted into a specialization\n",
    "# of default_theme which inserts the theme into any scene that plots MyPlot.\n",
    "\n",
    "# The do scene closure is just a function that returns our default attributes"
   ]
  },
  {
   "cell_type": "code",
   "execution_count": null,
   "metadata": {},
   "outputs": [],
   "source": [
    "@recipe(PlotVariable, x, y, z) do scene\n",
    "    Theme(\n",
    "        Lines = (\n",
    "            linewidth = 4,\n",
    "            linestyle = :dash,\n",
    "        ),\n",
    "        Axis = (\n",
    "            leftspinevisible = false,\n",
    "        ),\n",
    "    )\n",
    "    Attributes(\n",
    "        labels = false,\n",
    "    )\n",
    "end\n",
    "\n",
    "function Makie.plot!(pv::PlotVariable)\n",
    "    lines!(pv, rand(10), color = pv.plot_color)\n",
    "    pv\n",
    "end"
   ]
  },
  {
   "cell_type": "code",
   "execution_count": null,
   "metadata": {},
   "outputs": [],
   "source": []
  }
 ],
 "metadata": {
  "kernelspec": {
   "display_name": "Julia 1.11.3",
   "language": "julia",
   "name": "julia-1.11"
  },
  "language_info": {
   "file_extension": ".jl",
   "mimetype": "application/julia",
   "name": "julia",
   "version": "1.11.3"
  }
 },
 "nbformat": 4,
 "nbformat_minor": 2
}
